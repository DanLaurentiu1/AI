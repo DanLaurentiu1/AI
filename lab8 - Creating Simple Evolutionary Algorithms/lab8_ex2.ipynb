{
 "cells": [
  {
   "cell_type": "code",
   "execution_count": 36,
   "id": "a4a386c6-b189-4d45-ba0b-597cd34dd234",
   "metadata": {},
   "outputs": [],
   "source": [
    "import numpy as np\n",
    "import random\n",
    "\n",
    "\"\"\"\n",
    "Exercise 2: Initialization Objective: Implement the initialization step of a genetic algorithm.\n",
    "\"\"\"\n",
    "\n",
    "\n",
    "def individual(length):\n",
    "    return np.array([random.randint(0, 1) for _ in range(length)])"
   ]
  },
  {
   "cell_type": "code",
   "execution_count": 37,
   "id": "28574cbc-ffc0-4f18-bff5-ed9625632765",
   "metadata": {},
   "outputs": [],
   "source": [
    "def initialize_population(population_size, length):\n",
    "    return np.array([individual(length) for _ in range(population_size)])"
   ]
  },
  {
   "cell_type": "code",
   "execution_count": 45,
   "id": "e300c395-6df6-475e-b6ea-7f25a10fb58d",
   "metadata": {},
   "outputs": [],
   "source": [
    "def fitness(population):\n",
    "    total_sum = (VALUES * population).sum(axis=1)\n",
    "    scores = (WEIGHTS * population).sum(axis=1)\n",
    "    scores[total_sum > LIMIT] = 0\n",
    "    return scores\n",
    "\n",
    "def fitness1(individual):\n",
    "    total_sum = (VALUES * individual).sum()\n",
    "    score = (WEIGHTS * individual).sum()\n",
    "    if total_sum > LIMIT:\n",
    "        return 0\n",
    "    return score"
   ]
  },
  {
   "cell_type": "code",
   "execution_count": 46,
   "id": "2330642c-a28d-4e77-80c8-1431055e9891",
   "metadata": {},
   "outputs": [],
   "source": [
    "def select_parents(population, fitness_scores):\n",
    "    sum_of_fitness_scores = fitness_scores.sum()\n",
    "    probabilities = (fitness_scores / sum_of_fitness_scores) # + 1 ?\n",
    "    indexes = np.random.choice(POPULATION_SIZE, size=2, replace=False, p=probabilities)\n",
    "    return population[indexes]"
   ]
  },
  {
   "cell_type": "code",
   "execution_count": 47,
   "id": "82c4cb16-e607-4070-b9c4-de8dd99efc26",
   "metadata": {},
   "outputs": [],
   "source": [
    "def crossover(parents):\n",
    "    offspring = np.zeros((parents.shape[1]))\n",
    "    for i in range(parents.shape[1]):\n",
    "        if parents[0][i] == parents[1][i]:\n",
    "            offspring[i] = parents[0][i]\n",
    "        else:\n",
    "            offspring[i] = random.randint(0, 1)\n",
    "\n",
    "    return offspring"
   ]
  },
  {
   "cell_type": "code",
   "execution_count": 48,
   "id": "f7412a70-6393-4778-be32-098e03de89bd",
   "metadata": {},
   "outputs": [],
   "source": [
    "def mutate(chromosome, mutation_rate):\n",
    "    if random.random() <= mutation_rate:\n",
    "        chromosome = 1 - chromosome\n",
    "    return chromosome"
   ]
  },
  {
   "cell_type": "code",
   "execution_count": 49,
   "id": "6978db26-643d-4599-b4c1-36520ab0d8b9",
   "metadata": {},
   "outputs": [
    {
     "name": "stdout",
     "output_type": "stream",
     "text": [
      "[[1 0 0 ... 0 0 1]\n",
      " [1 0 1 ... 0 0 1]\n",
      " [0 0 1 ... 0 0 0]\n",
      " ...\n",
      " [0 0 0 ... 0 1 1]\n",
      " [0 0 0 ... 1 1 0]\n",
      " [1 0 1 ... 0 0 1]]\n",
      "Maximum is 23\n",
      "Chosen values [1 0 2 2 0 0 0 1] with weights [10  0 10  2  0  0  0  1]\n"
     ]
    }
   ],
   "source": [
    "def genetic_algorithm(population_size, length, generations, mutation_rate):\n",
    "    population = initialize_population(population_size, length)\n",
    "\n",
    "    for _ in range(generations):\n",
    "        # Fitness evaluation\n",
    "        fitness_scores = fitness(population)\n",
    "\n",
    "        # Selection\n",
    "        parents = select_parents(population, fitness_scores)\n",
    "\n",
    "        # Crossover\n",
    "        child = crossover(parents)\n",
    "\n",
    "        # Mutation\n",
    "        mutated_child = np.array([mutate(chromosome, mutation_rate) for chromosome in child])\n",
    "\n",
    "        # Replace the population with the new generation\n",
    "        minimum = fitness_scores.min()\n",
    "        if fitness1(mutated_child) < minimum:  # why/why not ?\n",
    "            continue\n",
    "        for i in range(fitness_scores.shape[0]):\n",
    "            if minimum == fitness_scores[i]:\n",
    "                population[i] = mutated_child\n",
    "                break\n",
    "\n",
    "    return population\n",
    "\n",
    "# Test the complete genetic algorithm\n",
    "POPULATION_SIZE = 10000\n",
    "LENGTH = 8\n",
    "GENERATIONS = 100\n",
    "MUTATION_RATE = 0.1\n",
    "WEIGHTS = np.array([10, 10, 10, 2, 1, 2, 1, 1])\n",
    "VALUES = np.array([1, 68, 2, 2, 38, 68, 8, 1])\n",
    "LIMIT = 10\n",
    "\n",
    "final_population = genetic_algorithm(POPULATION_SIZE, LENGTH, GENERATIONS, MUTATION_RATE)\n",
    "print(final_population)\n",
    "\n",
    "# determine the best individual from the final population and print it out\n",
    "fitness_score = fitness(final_population)\n",
    "maximum = fitness_score.max()\n",
    "print(f\"Maximum is {maximum}\")\n",
    "for i in range(0, fitness_score.shape[0]):\n",
    "    if fitness_score[i] == maximum:\n",
    "        print(f\"Chosen values {final_population[i] * VALUES} with weights {final_population[i] * WEIGHTS}\")\n",
    "        break"
   ]
  },
  {
   "cell_type": "code",
   "execution_count": null,
   "id": "72f032cb-148c-4b1e-8553-e3f884b4c2ba",
   "metadata": {},
   "outputs": [],
   "source": []
  }
 ],
 "metadata": {
  "kernelspec": {
   "display_name": "Python 3 (ipykernel)",
   "language": "python",
   "name": "python3"
  },
  "language_info": {
   "codemirror_mode": {
    "name": "ipython",
    "version": 3
   },
   "file_extension": ".py",
   "mimetype": "text/x-python",
   "name": "python",
   "nbconvert_exporter": "python",
   "pygments_lexer": "ipython3",
   "version": "3.11.8"
  }
 },
 "nbformat": 4,
 "nbformat_minor": 5
}
