{
 "cells": [
  {
   "cell_type": "code",
   "execution_count": 1,
   "id": "6dbaa7d0-33c4-4899-bdd9-7a2f710304db",
   "metadata": {},
   "outputs": [],
   "source": [
    "import numpy as np\n",
    "import random\n",
    "\n",
    "\"\"\"\n",
    "Exercise 2: Initialization Objective: Implement the initialization step of a genetic algorithm.\n",
    "\"\"\"\n",
    "\n",
    "\n",
    "def individual(xValueMin, xValueMax, yValueMin, yValueMax):\n",
    "\n",
    "    return [(random.random() * (xValueMax - xValueMin) + xValueMin), (random.random() * (yValueMax - yValueMin) + yValueMin)]"
   ]
  },
  {
   "cell_type": "code",
   "execution_count": 2,
   "id": "9b55ec3f-cc64-4005-99af-86937bc4d022",
   "metadata": {},
   "outputs": [],
   "source": [
    "def population(count, xValueMin, xValueMax, yValueMin, yValueMax):\n",
    "\n",
    "    return [individual(xValueMin, xValueMax, yValueMin, yValueMax) for x in range(count)]"
   ]
  },
  {
   "cell_type": "code",
   "execution_count": 3,
   "id": "d41c66f3-b6dd-41c5-9075-bff2e9b9b2f9",
   "metadata": {},
   "outputs": [],
   "source": [
    "def fitness(individual):\n",
    "\n",
    "    return 100 * np.sqrt(np.abs(individual[1] - 0.01 * individual[0] ** 2)) + 0.01 * np.abs(individual[0] + 10)"
   ]
  },
  {
   "cell_type": "code",
   "execution_count": 4,
   "id": "1a11fb75-e690-4c78-8f22-cbb8c6103bde",
   "metadata": {},
   "outputs": [],
   "source": [
    "def mutate(individual, mutationChance, xValueMin, xValueMax, yValueMin, yValueMax):\n",
    "\n",
    "    if mutationChance > random.random():\n",
    "        p = random.randint(0, len(individual) - 1)\n",
    "        if p == 0:\n",
    "            individual[p] = random.random() * (xValueMax - xValueMin) + xValueMin\n",
    "        else:\n",
    "            individual[p] = random.random() * (yValueMax - yValueMin) + yValueMin\n",
    "\n",
    "    return individual"
   ]
  },
  {
   "cell_type": "code",
   "execution_count": 5,
   "id": "60b24eb8-b0fb-4149-ba3c-f473dcf8498d",
   "metadata": {},
   "outputs": [],
   "source": [
    "def crossover(parent1, parent2):\n",
    "    '''\n",
    "    crossover between 2 parents\n",
    "    '''\n",
    "    child = []\n",
    "    alpha = random.random()\n",
    "    for x in range(len(parent1)):\n",
    "        child.append(alpha * (parent1[x] - parent2[x]) + parent2[x])\n",
    "        #find me a number alpha% close to max(parent1[x], parent2[x])\n",
    "    return child"
   ]
  },
  {
   "cell_type": "code",
   "execution_count": 6,
   "id": "4774f9a7-bd0c-4fbc-a970-0df061f4cc9a",
   "metadata": {},
   "outputs": [],
   "source": [
    "def iteration(pop, pM, xValueMin, xValueMax, yValueMin, yValueMax):\n",
    "\n",
    "    i1 = random.randint(0, len(pop) - 1)\n",
    "    i2 = random.randint(0, len(pop) - 1)\n",
    "    if i1 != i2:\n",
    "        c = crossover(pop[i1], pop[i2])\n",
    "        c = mutate(c, pM, xValueMin, xValueMax, yValueMin, yValueMax)\n",
    "        f1 = fitness(pop[i1])\n",
    "        f2 = fitness(pop[i2])\n",
    "\n",
    "        fc = fitness(c)\n",
    "        if (f1 > f2) and (f1 > fc):\n",
    "            pop[i1] = c\n",
    "        if (f2 > f1) and (f2 > fc):\n",
    "            pop[i2] = c\n",
    "    return pop"
   ]
  },
  {
   "cell_type": "code",
   "execution_count": 9,
   "id": "b9a0f9eb-3ab7-43f6-baf0-11cb7a78926e",
   "metadata": {},
   "outputs": [
    {
     "name": "stdout",
     "output_type": "stream",
     "text": [
      "Result: The detected minimum point after 10000 iterations is f(-8.43 0.71) = 0.02\n"
     ]
    }
   ],
   "source": [
    "def main(epochs):\n",
    "    population_size = 100\n",
    "    XvalueMax = -15\n",
    "    XvalueMin = 5\n",
    "    YvalueMax = -3\n",
    "    YvalueMin = 3\n",
    "    mutation_chance = 0.01\n",
    "\n",
    "    P = population(population_size, XvalueMin, XvalueMax, YvalueMin, YvalueMax)\n",
    "    for i in range(epochs):\n",
    "        P = iteration(P, mutation_chance, XvalueMin, XvalueMax, YvalueMin, YvalueMax)\n",
    "\n",
    "    # print the best individual\n",
    "    fitness_values = [(fitness(x), x) for x in P]\n",
    "    fitness_values.sort()\n",
    "    optimal_fitness = fitness_values[0][0]\n",
    "    optimal_individual = fitness_values[0][1]\n",
    "    print('Result: The detected minimum point after %d iterations is f(%3.2f %3.2f) = %3.2f' % \\\n",
    "          (epochs, optimal_individual[0], optimal_individual[1], optimal_fitness))\n",
    "\n",
    "\n",
    "main(10000)"
   ]
  },
  {
   "cell_type": "code",
   "execution_count": null,
   "id": "f1245c7c-3fa0-4c78-a67d-808066fcf776",
   "metadata": {},
   "outputs": [],
   "source": []
  }
 ],
 "metadata": {
  "kernelspec": {
   "display_name": "Python 3 (ipykernel)",
   "language": "python",
   "name": "python3"
  },
  "language_info": {
   "codemirror_mode": {
    "name": "ipython",
    "version": 3
   },
   "file_extension": ".py",
   "mimetype": "text/x-python",
   "name": "python",
   "nbconvert_exporter": "python",
   "pygments_lexer": "ipython3",
   "version": "3.11.8"
  }
 },
 "nbformat": 4,
 "nbformat_minor": 5
}
